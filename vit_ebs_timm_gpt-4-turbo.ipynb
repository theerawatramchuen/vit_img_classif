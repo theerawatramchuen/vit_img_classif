{
 "cells": [
  {
   "cell_type": "code",
   "execution_count": 1,
   "id": "2cf261b7-21f1-433d-b985-6a7c371f44a2",
   "metadata": {},
   "outputs": [],
   "source": [
    "import os\n",
    "import time\n",
    "import torch\n",
    "import timm\n",
    "import numpy as np\n",
    "import matplotlib.pyplot as plt\n",
    "from torchvision import datasets, transforms\n",
    "from torch.utils.data import DataLoader, random_split\n",
    "from sklearn.model_selection import train_test_split\n",
    "from datetime import datetime"
   ]
  },
  {
   "cell_type": "code",
   "execution_count": 2,
   "id": "8f1ee3b9-67a6-442e-806a-a9057064da54",
   "metadata": {},
   "outputs": [],
   "source": [
    "# Set device\n",
    "device = torch.device(\"cuda\" if torch.cuda.is_available() else \"cpu\")\n",
    "\n",
    "# Custom dataset folder\n",
    "dataset_path = 'dataset_ebs_timm'  # Update this path"
   ]
  },
  {
   "cell_type": "code",
   "execution_count": 3,
   "id": "b7346cb7-43d4-425c-8d87-7a13585dcdf9",
   "metadata": {},
   "outputs": [],
   "source": [
    "# Preset values\n",
    "dropout_rate = 0.0\n",
    "batch_size = 32\n",
    "learning_rate = 1e-4\n",
    "num_epochs = 10\n",
    "image_size = 224"
   ]
  },
  {
   "cell_type": "code",
   "execution_count": 4,
   "id": "77f1d768-2bc6-4af1-9937-fd2332939ebb",
   "metadata": {},
   "outputs": [],
   "source": [
    "# Data augmentation and normalization for training\n",
    "transform = transforms.Compose([\n",
    "    transforms.Resize((image_size, image_size)),\n",
    "    transforms.RandomHorizontalFlip(),\n",
    "    transforms.ToTensor(),\n",
    "    transforms.Normalize(mean=[0.485, 0.456, 0.406], std=[0.229, 0.224, 0.225]),\n",
    "])\n",
    "\n",
    "# Load custom dataset\n",
    "dataset = datasets.ImageFolder(dataset_path, transform=transform)\n",
    "class_names = dataset.classes\n",
    "num_classes = len(class_names)"
   ]
  },
  {
   "cell_type": "code",
   "execution_count": 5,
   "id": "03e6ddb5-5cd5-4707-968d-7bd1689f1018",
   "metadata": {},
   "outputs": [],
   "source": [
    "# Split dataset into training and validation sets\n",
    "train_size = int(0.7 * len(dataset))\n",
    "val_size = len(dataset) - train_size\n",
    "train_dataset, val_dataset = random_split(dataset, [train_size, val_size])"
   ]
  },
  {
   "cell_type": "code",
   "execution_count": 6,
   "id": "ea711ecf-5d86-4cb9-abaf-ec7283253ddb",
   "metadata": {},
   "outputs": [],
   "source": [
    "# Create data loaders\n",
    "train_loader = DataLoader(train_dataset, batch_size=batch_size, shuffle=True)\n",
    "val_loader = DataLoader(val_dataset, batch_size=batch_size)"
   ]
  },
  {
   "cell_type": "code",
   "execution_count": 7,
   "id": "c80e4a36-72f7-4a30-9ae4-9807a63e2650",
   "metadata": {},
   "outputs": [],
   "source": [
    "# Load pre-trained ViT model with specified dropout rate\n",
    "model = timm.create_model('vit_base_patch16_224', pretrained=True, num_classes=num_classes, drop_rate=dropout_rate)\n",
    "model = model.to(device)"
   ]
  },
  {
   "cell_type": "code",
   "execution_count": 8,
   "id": "7208aaea-c3e1-4643-b7fe-be677aa27f00",
   "metadata": {},
   "outputs": [],
   "source": [
    "# Loss function and optimizer\n",
    "criterion = torch.nn.CrossEntropyLoss()\n",
    "optimizer = torch.optim.Adam(model.parameters(), lr=learning_rate)"
   ]
  },
  {
   "cell_type": "code",
   "execution_count": 9,
   "id": "fb4b6ea6-7f16-45d9-aed4-38c93df0e1f9",
   "metadata": {},
   "outputs": [
    {
     "name": "stdout",
     "output_type": "stream",
     "text": [
      "Custom dataset folder: dataset_ebs_timm\n",
      "Number of classes: 2 with class names: ['goods', 'rejects']\n",
      "Preset dropout rate: 0.0\n",
      "Training/Testing Ratio: 491/211\n",
      "Learning rate: 0.0001\n"
     ]
    }
   ],
   "source": [
    "# Summary info before training loop\n",
    "print(f\"Custom dataset folder: {dataset_path}\")\n",
    "print(f\"Number of classes: {num_classes} with class names: {class_names}\")\n",
    "print(f\"Preset dropout rate: {dropout_rate}\")\n",
    "print(f\"Training/Testing Ratio: {train_size}/{val_size}\")\n",
    "print(f\"Learning rate: {learning_rate}\")"
   ]
  },
  {
   "cell_type": "code",
   "execution_count": 10,
   "id": "44b1ed7a-7581-4c36-b2c0-ac372a606c90",
   "metadata": {},
   "outputs": [],
   "source": [
    "# Training and validation\n",
    "train_acc_history, val_acc_history = [], []\n",
    "train_loss_history, val_loss_history = [], []"
   ]
  },
  {
   "cell_type": "code",
   "execution_count": 11,
   "id": "e267cb1b-fa1b-406f-8acc-cfbffe579444",
   "metadata": {},
   "outputs": [
    {
     "name": "stdout",
     "output_type": "stream",
     "text": [
      "Epoch 1/10.. Train loss: 0.8061.. Train accuracy: 0.6497.. Val loss: 0.6705.. Val accuracy: 0.6730\n",
      "Epoch 2/10.. Train loss: 0.5365.. Train accuracy: 0.7515.. Val loss: 0.3196.. Val accuracy: 0.8768\n",
      "Epoch 3/10.. Train loss: 0.5097.. Train accuracy: 0.8024.. Val loss: 0.8137.. Val accuracy: 0.3507\n",
      "Epoch 4/10.. Train loss: 0.5160.. Train accuracy: 0.7495.. Val loss: 0.2246.. Val accuracy: 0.9194\n",
      "Epoch 5/10.. Train loss: 0.0866.. Train accuracy: 0.9796.. Val loss: 0.1482.. Val accuracy: 0.9716\n",
      "Epoch 6/10.. Train loss: 0.0813.. Train accuracy: 0.9776.. Val loss: 0.0246.. Val accuracy: 0.9953\n",
      "Epoch 7/10.. Train loss: 0.0149.. Train accuracy: 0.9939.. Val loss: 0.0017.. Val accuracy: 1.0000\n",
      "Epoch 8/10.. Train loss: 0.0060.. Train accuracy: 0.9980.. Val loss: 0.0054.. Val accuracy: 1.0000\n",
      "Epoch 9/10.. Train loss: 0.0003.. Train accuracy: 1.0000.. Val loss: 0.0003.. Val accuracy: 1.0000\n",
      "Epoch 10/10.. Train loss: 0.0002.. Train accuracy: 1.0000.. Val loss: 0.0004.. Val accuracy: 1.0000\n"
     ]
    }
   ],
   "source": [
    "for epoch in range(num_epochs):\n",
    "    # Training\n",
    "    model.train()\n",
    "    train_loss, train_correct = 0.0, 0\n",
    "    for inputs, labels in train_loader:\n",
    "        inputs, labels = inputs.to(device), labels.to(device)\n",
    "        optimizer.zero_grad()\n",
    "        outputs = model(inputs)\n",
    "        loss = criterion(outputs, labels)\n",
    "        loss.backward()\n",
    "        optimizer.step()\n",
    "        train_loss += loss.item() * inputs.size(0)\n",
    "        _, predictions = torch.max(outputs, 1)\n",
    "        train_correct += torch.sum(predictions == labels.data)\n",
    "    \n",
    "    # Validation\n",
    "    model.eval()\n",
    "    val_loss, val_correct = 0.0, 0\n",
    "    with torch.no_grad():\n",
    "        for inputs, labels in val_loader:\n",
    "            inputs, labels = inputs.to(device), labels.to(device)\n",
    "            outputs = model(inputs)\n",
    "            loss = criterion(outputs, labels)\n",
    "            val_loss += loss.item() * inputs.size(0)\n",
    "            _, predictions = torch.max(outputs, 1)\n",
    "            val_correct += torch.sum(predictions == labels.data)\n",
    "    \n",
    "    # Calculate average losses and accuracy\n",
    "    train_loss = train_loss / train_size\n",
    "    train_acc = train_correct.double() / train_size\n",
    "    val_loss = val_loss / val_size\n",
    "    val_acc = val_correct.double() / val_size\n",
    "\n",
    "    # Save history for plotting\n",
    "    train_acc_history.append(train_acc.cpu().numpy())\n",
    "    train_loss_history.append(train_loss)\n",
    "    val_acc_history.append(val_acc.cpu().numpy())\n",
    "    val_loss_history.append(val_loss)\n",
    "\n",
    "    # Print results every epoch\n",
    "    print(f\"Epoch {epoch+1}/{num_epochs}.. \"\n",
    "          f\"Train loss: {train_loss:.4f}.. \"\n",
    "          f\"Train accuracy: {train_acc:.4f}.. \"\n",
    "          f\"Val loss: {val_loss:.4f}.. \"\n",
    "          f\"Val accuracy: {val_acc:.4f}\")"
   ]
  },
  {
   "cell_type": "code",
   "execution_count": 18,
   "id": "05ca6d66-bce0-409b-9ef5-71af7337f8b5",
   "metadata": {},
   "outputs": [
    {
     "data": {
      "text/plain": [
       "[<matplotlib.lines.Line2D at 0x1bdaddfe6a0>]"
      ]
     },
     "execution_count": 18,
     "metadata": {},
     "output_type": "execute_result"
    },
    {
     "data": {
      "image/png": "[encoded data removed]",
      "text/plain": [
       "<Figure size 1200x400 with 2 Axes>"
      ]
     },
     "metadata": {},
     "output_type": "display_data"
    }
   ],
   "source": [
    "# Plot trend chart for Accuracy and Loss\n",
    "plt.figure(figsize=(12, 4))\n",
    "plt.subplot(1, 2, 1)\n",
    "plt.plot(train_acc_history, label='Training Accuracy')\n",
    "plt.plot(val_acc_history, label='Validation Accuracy')\n",
    "plt.subplot(1, 2, 2)\n",
    "plt.plot(train_loss_history, label='Training Loss')\n",
    "plt.plot(val_loss_history, label='Validation Loss')"
   ]
  },
  {
   "cell_type": "code",
   "execution_count": 12,
   "id": "99813ee7-49c4-4a22-abbd-b9dd40c3d4e2",
   "metadata": {},
   "outputs": [
    {
     "name": "stdout",
     "output_type": "stream",
     "text": [
      "Model saved to dataset_ebs_timm\\model_20231220_105848.pth\n"
     ]
    }
   ],
   "source": [
    "# Save the model\n",
    "timestamp = datetime.now().strftime('%Y%m%d_%H%M%S')\n",
    "model_save_path = os.path.join(dataset_path, f'model_{timestamp}.pth')\n",
    "torch.save(model.state_dict(), model_save_path)\n",
    "print(f\"Model saved to {model_save_path}\")"
   ]
  },
  {
   "cell_type": "code",
   "execution_count": null,
   "id": "b0221256-4d67-48f2-aa02-8e23dd836301",
   "metadata": {},
   "outputs": [],
   "source": []
  }
 ],
 "metadata": {
  "kernelspec": {
   "display_name": "Python 3 (ipykernel)",
   "language": "python",
   "name": "python3"
  },
  "language_info": {
   "codemirror_mode": {
    "name": "ipython",
    "version": 3
   },
   "file_extension": ".py",
   "mimetype": "text/x-python",
   "name": "python",
   "nbconvert_exporter": "python",
   "pygments_lexer": "ipython3",
   "version": "3.8.18"
  }
 },
 "nbformat": 4,
 "nbformat_minor": 5
}
