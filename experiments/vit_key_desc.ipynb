{
 "cells": [
  {
   "cell_type": "code",
   "execution_count": 1,
   "id": "1fb1c10e",
   "metadata": {},
   "outputs": [],
   "source": [
    "import matplotlib.pyplot as plt\n",
    "import torch\n",
    "import torchvision\n",
    "import datetime, os\n",
    "\n",
    "from torch import nn\n",
    "from torchvision import transforms\n",
    "from helper_functions import set_seeds"
   ]
  },
  {
   "cell_type": "code",
   "execution_count": 2,
   "id": "12e97c71",
   "metadata": {},
   "outputs": [
    {
     "data": {
      "text/plain": [
       "'cuda'"
      ]
     },
     "execution_count": 2,
     "metadata": {},
     "output_type": "execute_result"
    }
   ],
   "source": [
    "device = \"cuda\" if torch.cuda.is_available() else \"cpu\"\n",
    "device"
   ]
  },
  {
   "cell_type": "code",
   "execution_count": 3,
   "id": "e249eb6d-55e6-4c2f-aa0a-23d68ba6566c",
   "metadata": {},
   "outputs": [],
   "source": [
    "# Set up Dataset directory\n",
    "dataset_dir = \"key_desc\"\n"
   ]
  },
  {
   "cell_type": "code",
   "execution_count": 4,
   "id": "ca4a215b-78be-4d0d-acf7-f77f9bc3d0cd",
   "metadata": {},
   "outputs": [
    {
     "name": "stdout",
     "output_type": "stream",
     "text": [
      "['Big Bump', 'Bridged', 'Chemical residue', 'Deformed Bump', 'Deformed Bump Top', 'Foreign Material', 'Good bump edge', 'Good bump top', 'Good center image', 'Good FM', 'Good No Image', 'IQC Defects', 'Metal Residue', 'Missing bump', 'PI defect', 'Scratches', 'Small Bump']\n"
     ]
    }
   ],
   "source": [
    "def get_subfolders(directory_path):\n",
    "    \"\"\"Return a list of subfolder names in the given directory.\"\"\"\n",
    "    subfolders = []\n",
    "    # Check if the directory exists\n",
    "    if os.path.exists(directory_path):\n",
    "        # List all files and folders in the directory\n",
    "        for item in os.listdir(directory_path):\n",
    "            # Join the directory path with the item name\n",
    "            full_path = os.path.join(directory_path, item)\n",
    "            # Check if the item is a directory\n",
    "            if os.path.isdir(full_path):\n",
    "                subfolders.append(item)\n",
    "    else:\n",
    "        print(\"Directory does not exist.\")\n",
    "    return subfolders\n",
    "\n",
    "class_names = get_subfolders(dataset_dir + '/_train')\n",
    "\n",
    "print(class_names)"
   ]
  },
  {
   "cell_type": "code",
   "execution_count": 5,
   "id": "0de25b1a",
   "metadata": {},
   "outputs": [],
   "source": [
    "# 1. Get pretrained weights for ViT-Base\n",
    "pretrained_vit_weights = torchvision.models.ViT_B_16_Weights.DEFAULT \n",
    "\n",
    "# 2. Setup a ViT model instance with pretrained weights\n",
    "pretrained_vit = torchvision.models.vit_b_16(weights=pretrained_vit_weights).to(device)\n",
    "\n",
    "# 3. Freeze the base parameters\n",
    "for parameter in pretrained_vit.parameters():\n",
    "    parameter.requires_grad = False\n",
    "\n",
    "set_seeds()\n",
    "pretrained_vit.heads = nn.Linear(in_features=768, out_features=len(class_names)).to(device)\n",
    "# pretrained_vit # uncomment for model output "
   ]
  },
  {
   "cell_type": "code",
   "execution_count": 6,
   "id": "e3feaa42",
   "metadata": {},
   "outputs": [
    {
     "data": {
      "text/plain": [
       "============================================================================================================================================\n",
       "Layer (type (var_name))                                      Input Shape          Output Shape         Param #              Trainable\n",
       "============================================================================================================================================\n",
       "VisionTransformer (VisionTransformer)                        [32, 3, 224, 224]    [32, 17]             768                  Partial\n",
       "├─Conv2d (conv_proj)                                         [32, 3, 224, 224]    [32, 768, 14, 14]    (590,592)            False\n",
       "├─Encoder (encoder)                                          [32, 197, 768]       [32, 197, 768]       151,296              False\n",
       "│    └─Dropout (dropout)                                     [32, 197, 768]       [32, 197, 768]       --                   --\n",
       "│    └─Sequential (layers)                                   [32, 197, 768]       [32, 197, 768]       --                   False\n",
       "│    │    └─EncoderBlock (encoder_layer_0)                   [32, 197, 768]       [32, 197, 768]       (7,087,872)          False\n",
       "│    │    └─EncoderBlock (encoder_layer_1)                   [32, 197, 768]       [32, 197, 768]       (7,087,872)          False\n",
       "│    │    └─EncoderBlock (encoder_layer_2)                   [32, 197, 768]       [32, 197, 768]       (7,087,872)          False\n",
       "│    │    └─EncoderBlock (encoder_layer_3)                   [32, 197, 768]       [32, 197, 768]       (7,087,872)          False\n",
       "│    │    └─EncoderBlock (encoder_layer_4)                   [32, 197, 768]       [32, 197, 768]       (7,087,872)          False\n",
       "│    │    └─EncoderBlock (encoder_layer_5)                   [32, 197, 768]       [32, 197, 768]       (7,087,872)          False\n",
       "│    │    └─EncoderBlock (encoder_layer_6)                   [32, 197, 768]       [32, 197, 768]       (7,087,872)          False\n",
       "│    │    └─EncoderBlock (encoder_layer_7)                   [32, 197, 768]       [32, 197, 768]       (7,087,872)          False\n",
       "│    │    └─EncoderBlock (encoder_layer_8)                   [32, 197, 768]       [32, 197, 768]       (7,087,872)          False\n",
       "│    │    └─EncoderBlock (encoder_layer_9)                   [32, 197, 768]       [32, 197, 768]       (7,087,872)          False\n",
       "│    │    └─EncoderBlock (encoder_layer_10)                  [32, 197, 768]       [32, 197, 768]       (7,087,872)          False\n",
       "│    │    └─EncoderBlock (encoder_layer_11)                  [32, 197, 768]       [32, 197, 768]       (7,087,872)          False\n",
       "│    └─LayerNorm (ln)                                        [32, 197, 768]       [32, 197, 768]       (1,536)              False\n",
       "├─Linear (heads)                                             [32, 768]            [32, 17]             13,073               True\n",
       "============================================================================================================================================\n",
       "Total params: 85,811,729\n",
       "Trainable params: 13,073\n",
       "Non-trainable params: 85,798,656\n",
       "Total mult-adds (G): 5.52\n",
       "============================================================================================================================================\n",
       "Input size (MB): 19.27\n",
       "Forward/backward pass size (MB): 3330.74\n",
       "Params size (MB): 229.24\n",
       "Estimated Total Size (MB): 3579.25\n",
       "============================================================================================================================================"
      ]
     },
     "execution_count": 6,
     "metadata": {},
     "output_type": "execute_result"
    }
   ],
   "source": [
    "from torchinfo import summary\n",
    "\n",
    "# Print a summary using torchinfo (uncomment for actual output)\n",
    "summary(model=pretrained_vit, \n",
    "        input_size=(32, 3, 224, 224), # (batch_size, color_channels, height, width)\n",
    "        # col_names=[\"input_size\"], # uncomment for smaller output\n",
    "        col_names=[\"input_size\", \"output_size\", \"num_params\", \"trainable\"],\n",
    "        col_width=20,\n",
    "        row_settings=[\"var_names\"]\n",
    ")"
   ]
  },
  {
   "cell_type": "markdown",
   "id": "c73ec300",
   "metadata": {},
   "source": [
    "#### Notice how only the output layer is trainable, where as, all of the rest of the layers are untrainable (frozen)."
   ]
  },
  {
   "cell_type": "code",
   "execution_count": 7,
   "id": "ac8cc699",
   "metadata": {},
   "outputs": [],
   "source": [
    "# Setup directory paths to train and test images\n",
    "train_dir = (dataset_dir + '/_train')\n",
    "test_dir = (dataset_dir + '/_valid')"
   ]
  },
  {
   "cell_type": "markdown",
   "id": "91175306",
   "metadata": {},
   "source": [
    "Remember, if you're going to use a pretrained model, it's generally important to ensure your own custom data is transformed/formatted in the same way the data the original model was trained on."
   ]
  },
  {
   "cell_type": "code",
   "execution_count": 8,
   "id": "05aa777b",
   "metadata": {},
   "outputs": [
    {
     "name": "stdout",
     "output_type": "stream",
     "text": [
      "ImageClassification(\n",
      "    crop_size=[224]\n",
      "    resize_size=[256]\n",
      "    mean=[0.485, 0.456, 0.406]\n",
      "    std=[0.229, 0.224, 0.225]\n",
      "    interpolation=InterpolationMode.BILINEAR\n",
      ")\n"
     ]
    }
   ],
   "source": [
    "# Get automatic transforms from pretrained ViT weights\n",
    "pretrained_vit_transforms = pretrained_vit_weights.transforms()\n",
    "print(pretrained_vit_transforms)"
   ]
  },
  {
   "cell_type": "markdown",
   "id": "088971e6",
   "metadata": {},
   "source": [
    "## And now we've got transforms ready, we can turn our images into DataLoaders using the create_dataloaders()"
   ]
  },
  {
   "cell_type": "code",
   "execution_count": 9,
   "id": "5d49225b",
   "metadata": {},
   "outputs": [],
   "source": [
    "import os\n",
    "\n",
    "from torchvision import datasets, transforms\n",
    "from torch.utils.data import DataLoader\n",
    "\n",
    "NUM_WORKERS = os.cpu_count()\n",
    "\n",
    "def create_dataloaders(\n",
    "    train_dir: str, \n",
    "    test_dir: str, \n",
    "    transform: transforms.Compose, \n",
    "    batch_size: int, \n",
    "    num_workers: int=NUM_WORKERS\n",
    "):\n",
    "\n",
    "  # Use ImageFolder to create dataset(s)\n",
    "  train_data = datasets.ImageFolder(train_dir, transform=transform)\n",
    "  test_data = datasets.ImageFolder(test_dir, transform=transform)\n",
    "\n",
    "  # Get class names\n",
    "  class_names = train_data.classes\n",
    "\n",
    "  # Turn images into data loaders\n",
    "  train_dataloader = DataLoader(\n",
    "      train_data,\n",
    "      batch_size=batch_size,\n",
    "      shuffle=True,\n",
    "      num_workers=num_workers,\n",
    "      pin_memory=True,\n",
    "  )\n",
    "  test_dataloader = DataLoader(\n",
    "      test_data,\n",
    "      batch_size=batch_size,\n",
    "      shuffle=False,\n",
    "      num_workers=num_workers,\n",
    "      pin_memory=True,\n",
    "  )\n",
    "\n",
    "  return train_dataloader, test_dataloader, class_names"
   ]
  },
  {
   "cell_type": "code",
   "execution_count": 10,
   "id": "9037c8a5",
   "metadata": {},
   "outputs": [],
   "source": [
    "# Setup dataloaders\n",
    "train_dataloader_pretrained, test_dataloader_pretrained, class_names = create_dataloaders(train_dir=train_dir,\n",
    "                                                                                                     test_dir=test_dir,\n",
    "                                                                                                     transform=pretrained_vit_transforms,\n",
    "                                                                                                     batch_size=32) # Could increase if we had more samples, such as here: https://arxiv.org/abs/2205.01580 (there are other improvements there too...)\n"
   ]
  },
  {
   "cell_type": "code",
   "execution_count": 11,
   "id": "10c5ba74",
   "metadata": {},
   "outputs": [
    {
     "data": {
      "application/vnd.jupyter.widget-view+json": {
       "model_id": "61d914f5d20c4af49bce68ed55dccbe8",
       "version_major": 2,
       "version_minor": 0
      },
      "text/plain": [
       "  0%|          | 0/200 [00:00<?, ?it/s]"
      ]
     },
     "metadata": {},
     "output_type": "display_data"
    },
    {
     "name": "stdout",
     "output_type": "stream",
     "text": [
      "Epoch: 1 | train_loss: 0.6460 | train_acc: 0.8078 | test_loss: 0.4022 | test_acc: 0.8765\n",
      "Epoch: 2 | train_loss: 0.3319 | train_acc: 0.8995 | test_loss: 0.3111 | test_acc: 0.9038\n",
      "Epoch: 3 | train_loss: 0.2585 | train_acc: 0.9217 | test_loss: 0.2704 | test_acc: 0.9125\n",
      "Epoch: 4 | train_loss: 0.2195 | train_acc: 0.9349 | test_loss: 0.2488 | test_acc: 0.9222\n",
      "Epoch: 5 | train_loss: 0.1924 | train_acc: 0.9434 | test_loss: 0.2387 | test_acc: 0.9206\n",
      "Epoch: 6 | train_loss: 0.1741 | train_acc: 0.9485 | test_loss: 0.2200 | test_acc: 0.9282\n",
      "Epoch: 7 | train_loss: 0.1570 | train_acc: 0.9554 | test_loss: 0.2118 | test_acc: 0.9302\n",
      "Epoch: 8 | train_loss: 0.1455 | train_acc: 0.9577 | test_loss: 0.2069 | test_acc: 0.9309\n",
      "Epoch: 9 | train_loss: 0.1351 | train_acc: 0.9619 | test_loss: 0.1985 | test_acc: 0.9331\n",
      "Epoch: 10 | train_loss: 0.1255 | train_acc: 0.9642 | test_loss: 0.1941 | test_acc: 0.9318\n",
      "Epoch: 11 | train_loss: 0.1190 | train_acc: 0.9675 | test_loss: 0.1855 | test_acc: 0.9390\n",
      "Epoch: 12 | train_loss: 0.1117 | train_acc: 0.9681 | test_loss: 0.1808 | test_acc: 0.9401\n",
      "Epoch: 13 | train_loss: 0.1063 | train_acc: 0.9699 | test_loss: 0.1744 | test_acc: 0.9439\n",
      "Epoch: 14 | train_loss: 0.1002 | train_acc: 0.9729 | test_loss: 0.1796 | test_acc: 0.9398\n",
      "Epoch: 15 | train_loss: 0.0961 | train_acc: 0.9725 | test_loss: 0.1736 | test_acc: 0.9419\n",
      "Epoch: 16 | train_loss: 0.0913 | train_acc: 0.9751 | test_loss: 0.1746 | test_acc: 0.9426\n",
      "Epoch: 17 | train_loss: 0.0875 | train_acc: 0.9754 | test_loss: 0.1703 | test_acc: 0.9433\n",
      "Epoch: 18 | train_loss: 0.0854 | train_acc: 0.9765 | test_loss: 0.1675 | test_acc: 0.9455\n",
      "Epoch: 19 | train_loss: 0.0809 | train_acc: 0.9773 | test_loss: 0.1656 | test_acc: 0.9448\n",
      "Epoch: 20 | train_loss: 0.0789 | train_acc: 0.9792 | test_loss: 0.1652 | test_acc: 0.9457\n",
      "Epoch: 21 | train_loss: 0.0755 | train_acc: 0.9786 | test_loss: 0.1640 | test_acc: 0.9454\n",
      "Epoch: 22 | train_loss: 0.0726 | train_acc: 0.9798 | test_loss: 0.1671 | test_acc: 0.9463\n",
      "Epoch: 23 | train_loss: 0.0704 | train_acc: 0.9807 | test_loss: 0.1660 | test_acc: 0.9436\n",
      "Epoch: 24 | train_loss: 0.0684 | train_acc: 0.9816 | test_loss: 0.1614 | test_acc: 0.9471\n",
      "Epoch: 25 | train_loss: 0.0665 | train_acc: 0.9820 | test_loss: 0.1654 | test_acc: 0.9487\n",
      "Epoch: 26 | train_loss: 0.0643 | train_acc: 0.9829 | test_loss: 0.1665 | test_acc: 0.9470\n",
      "Epoch: 27 | train_loss: 0.0619 | train_acc: 0.9832 | test_loss: 0.1689 | test_acc: 0.9455\n",
      "Epoch: 28 | train_loss: 0.0596 | train_acc: 0.9841 | test_loss: 0.1635 | test_acc: 0.9458\n",
      "Epoch: 29 | train_loss: 0.0581 | train_acc: 0.9843 | test_loss: 0.1662 | test_acc: 0.9445\n",
      "Epoch: 30 | train_loss: 0.0576 | train_acc: 0.9845 | test_loss: 0.1624 | test_acc: 0.9479\n",
      "Epoch: 31 | train_loss: 0.0551 | train_acc: 0.9853 | test_loss: 0.1638 | test_acc: 0.9468\n",
      "Epoch: 32 | train_loss: 0.0541 | train_acc: 0.9860 | test_loss: 0.1687 | test_acc: 0.9457\n",
      "Epoch: 33 | train_loss: 0.0527 | train_acc: 0.9862 | test_loss: 0.1694 | test_acc: 0.9471\n",
      "Epoch: 34 | train_loss: 0.0510 | train_acc: 0.9871 | test_loss: 0.1656 | test_acc: 0.9473\n",
      "Epoch: 35 | train_loss: 0.0500 | train_acc: 0.9870 | test_loss: 0.1640 | test_acc: 0.9470\n",
      "Epoch: 36 | train_loss: 0.0486 | train_acc: 0.9872 | test_loss: 0.1638 | test_acc: 0.9490\n",
      "Epoch: 37 | train_loss: 0.0465 | train_acc: 0.9877 | test_loss: 0.1638 | test_acc: 0.9464\n",
      "Epoch: 38 | train_loss: 0.0466 | train_acc: 0.9877 | test_loss: 0.1734 | test_acc: 0.9477\n",
      "Epoch: 39 | train_loss: 0.0448 | train_acc: 0.9885 | test_loss: 0.1650 | test_acc: 0.9467\n",
      "Epoch: 40 | train_loss: 0.0441 | train_acc: 0.9888 | test_loss: 0.1663 | test_acc: 0.9476\n",
      "Epoch: 41 | train_loss: 0.0434 | train_acc: 0.9895 | test_loss: 0.1672 | test_acc: 0.9483\n",
      "Epoch: 42 | train_loss: 0.0417 | train_acc: 0.9894 | test_loss: 0.1635 | test_acc: 0.9496\n",
      "Epoch: 43 | train_loss: 0.0418 | train_acc: 0.9891 | test_loss: 0.1641 | test_acc: 0.9515\n",
      "Epoch: 44 | train_loss: 0.0395 | train_acc: 0.9904 | test_loss: 0.1665 | test_acc: 0.9479\n",
      "Epoch: 45 | train_loss: 0.0390 | train_acc: 0.9905 | test_loss: 0.1659 | test_acc: 0.9493\n",
      "Epoch: 46 | train_loss: 0.0385 | train_acc: 0.9908 | test_loss: 0.1666 | test_acc: 0.9487\n",
      "Epoch: 47 | train_loss: 0.0380 | train_acc: 0.9908 | test_loss: 0.1686 | test_acc: 0.9492\n",
      "Epoch: 48 | train_loss: 0.0371 | train_acc: 0.9915 | test_loss: 0.1679 | test_acc: 0.9493\n",
      "Epoch: 49 | train_loss: 0.0366 | train_acc: 0.9911 | test_loss: 0.1691 | test_acc: 0.9493\n",
      "Epoch: 50 | train_loss: 0.0351 | train_acc: 0.9914 | test_loss: 0.1713 | test_acc: 0.9480\n",
      "Epoch: 51 | train_loss: 0.0344 | train_acc: 0.9923 | test_loss: 0.1695 | test_acc: 0.9492\n",
      "Epoch: 52 | train_loss: 0.0341 | train_acc: 0.9921 | test_loss: 0.1729 | test_acc: 0.9485\n",
      "Epoch: 53 | train_loss: 0.0336 | train_acc: 0.9925 | test_loss: 0.1777 | test_acc: 0.9468\n",
      "Epoch: 54 | train_loss: 0.0327 | train_acc: 0.9928 | test_loss: 0.1742 | test_acc: 0.9487\n",
      "Epoch: 55 | train_loss: 0.0316 | train_acc: 0.9931 | test_loss: 0.1753 | test_acc: 0.9506\n",
      "Epoch: 56 | train_loss: 0.0314 | train_acc: 0.9930 | test_loss: 0.1714 | test_acc: 0.9515\n",
      "Epoch: 57 | train_loss: 0.0307 | train_acc: 0.9932 | test_loss: 0.1786 | test_acc: 0.9495\n",
      "Epoch: 58 | train_loss: 0.0302 | train_acc: 0.9945 | test_loss: 0.1790 | test_acc: 0.9482\n",
      "Epoch: 59 | train_loss: 0.0297 | train_acc: 0.9935 | test_loss: 0.1744 | test_acc: 0.9506\n",
      "Epoch: 60 | train_loss: 0.0294 | train_acc: 0.9940 | test_loss: 0.1747 | test_acc: 0.9508\n",
      "Epoch: 61 | train_loss: 0.0287 | train_acc: 0.9942 | test_loss: 0.1743 | test_acc: 0.9501\n",
      "Epoch: 62 | train_loss: 0.0275 | train_acc: 0.9949 | test_loss: 0.1773 | test_acc: 0.9489\n",
      "Epoch: 63 | train_loss: 0.0279 | train_acc: 0.9942 | test_loss: 0.1757 | test_acc: 0.9492\n",
      "Epoch: 64 | train_loss: 0.0268 | train_acc: 0.9951 | test_loss: 0.1859 | test_acc: 0.9492\n",
      "Epoch: 65 | train_loss: 0.0264 | train_acc: 0.9947 | test_loss: 0.1834 | test_acc: 0.9485\n",
      "Epoch: 66 | train_loss: 0.0261 | train_acc: 0.9946 | test_loss: 0.1838 | test_acc: 0.9506\n",
      "Epoch: 67 | train_loss: 0.0259 | train_acc: 0.9952 | test_loss: 0.1882 | test_acc: 0.9493\n",
      "Epoch: 68 | train_loss: 0.0253 | train_acc: 0.9950 | test_loss: 0.1804 | test_acc: 0.9499\n",
      "Epoch: 69 | train_loss: 0.0247 | train_acc: 0.9954 | test_loss: 0.1822 | test_acc: 0.9506\n",
      "Epoch: 70 | train_loss: 0.0243 | train_acc: 0.9958 | test_loss: 0.1836 | test_acc: 0.9496\n",
      "Epoch: 71 | train_loss: 0.0230 | train_acc: 0.9961 | test_loss: 0.1887 | test_acc: 0.9501\n",
      "Epoch: 72 | train_loss: 0.0235 | train_acc: 0.9958 | test_loss: 0.1891 | test_acc: 0.9474\n",
      "Epoch: 73 | train_loss: 0.0226 | train_acc: 0.9960 | test_loss: 0.1951 | test_acc: 0.9473\n",
      "Epoch: 74 | train_loss: 0.0225 | train_acc: 0.9963 | test_loss: 0.1845 | test_acc: 0.9499\n",
      "Epoch: 75 | train_loss: 0.0219 | train_acc: 0.9964 | test_loss: 0.1871 | test_acc: 0.9487\n",
      "Epoch: 76 | train_loss: 0.0221 | train_acc: 0.9962 | test_loss: 0.1924 | test_acc: 0.9496\n",
      "Epoch: 77 | train_loss: 0.0211 | train_acc: 0.9973 | test_loss: 0.1913 | test_acc: 0.9480\n",
      "Epoch: 78 | train_loss: 0.0211 | train_acc: 0.9965 | test_loss: 0.1886 | test_acc: 0.9483\n",
      "Epoch: 79 | train_loss: 0.0211 | train_acc: 0.9966 | test_loss: 0.1957 | test_acc: 0.9504\n",
      "Epoch: 80 | train_loss: 0.0208 | train_acc: 0.9961 | test_loss: 0.1921 | test_acc: 0.9477\n",
      "Epoch: 81 | train_loss: 0.0197 | train_acc: 0.9970 | test_loss: 0.1921 | test_acc: 0.9483\n",
      "Epoch: 82 | train_loss: 0.0192 | train_acc: 0.9971 | test_loss: 0.1947 | test_acc: 0.9502\n",
      "Epoch: 83 | train_loss: 0.0190 | train_acc: 0.9973 | test_loss: 0.1980 | test_acc: 0.9502\n",
      "Epoch: 84 | train_loss: 0.0195 | train_acc: 0.9968 | test_loss: 0.2069 | test_acc: 0.9448\n",
      "Epoch: 85 | train_loss: 0.0187 | train_acc: 0.9976 | test_loss: 0.1962 | test_acc: 0.9509\n",
      "Epoch: 86 | train_loss: 0.0185 | train_acc: 0.9973 | test_loss: 0.1936 | test_acc: 0.9506\n",
      "Epoch: 87 | train_loss: 0.0184 | train_acc: 0.9968 | test_loss: 0.1978 | test_acc: 0.9504\n",
      "Epoch: 88 | train_loss: 0.0176 | train_acc: 0.9979 | test_loss: 0.1973 | test_acc: 0.9477\n",
      "Epoch: 89 | train_loss: 0.0174 | train_acc: 0.9974 | test_loss: 0.2035 | test_acc: 0.9482\n",
      "Epoch: 90 | train_loss: 0.0171 | train_acc: 0.9975 | test_loss: 0.1982 | test_acc: 0.9515\n",
      "Epoch: 91 | train_loss: 0.0178 | train_acc: 0.9968 | test_loss: 0.2028 | test_acc: 0.9490\n",
      "Epoch: 92 | train_loss: 0.0167 | train_acc: 0.9977 | test_loss: 0.2010 | test_acc: 0.9501\n",
      "Epoch: 93 | train_loss: 0.0168 | train_acc: 0.9980 | test_loss: 0.2020 | test_acc: 0.9493\n",
      "Epoch: 94 | train_loss: 0.0163 | train_acc: 0.9977 | test_loss: 0.2006 | test_acc: 0.9509\n",
      "Epoch: 95 | train_loss: 0.0162 | train_acc: 0.9980 | test_loss: 0.2150 | test_acc: 0.9479\n",
      "Epoch: 96 | train_loss: 0.0157 | train_acc: 0.9981 | test_loss: 0.2082 | test_acc: 0.9502\n",
      "Epoch: 97 | train_loss: 0.0154 | train_acc: 0.9978 | test_loss: 0.2060 | test_acc: 0.9492\n",
      "Epoch: 98 | train_loss: 0.0156 | train_acc: 0.9983 | test_loss: 0.2029 | test_acc: 0.9492\n",
      "Epoch: 99 | train_loss: 0.0153 | train_acc: 0.9982 | test_loss: 0.2151 | test_acc: 0.9474\n",
      "Epoch: 100 | train_loss: 0.0153 | train_acc: 0.9982 | test_loss: 0.2094 | test_acc: 0.9499\n",
      "Epoch: 101 | train_loss: 0.0150 | train_acc: 0.9981 | test_loss: 0.2107 | test_acc: 0.9468\n",
      "Epoch: 102 | train_loss: 0.0145 | train_acc: 0.9985 | test_loss: 0.2061 | test_acc: 0.9495\n",
      "Epoch: 103 | train_loss: 0.0144 | train_acc: 0.9983 | test_loss: 0.2101 | test_acc: 0.9498\n",
      "Epoch: 104 | train_loss: 0.0144 | train_acc: 0.9984 | test_loss: 0.2108 | test_acc: 0.9490\n",
      "Epoch: 105 | train_loss: 0.0138 | train_acc: 0.9988 | test_loss: 0.2155 | test_acc: 0.9483\n",
      "Epoch: 106 | train_loss: 0.0138 | train_acc: 0.9984 | test_loss: 0.2159 | test_acc: 0.9476\n",
      "Epoch: 107 | train_loss: 0.0137 | train_acc: 0.9984 | test_loss: 0.2156 | test_acc: 0.9496\n",
      "Epoch: 108 | train_loss: 0.0133 | train_acc: 0.9984 | test_loss: 0.2126 | test_acc: 0.9489\n",
      "Epoch: 109 | train_loss: 0.0132 | train_acc: 0.9987 | test_loss: 0.2172 | test_acc: 0.9492\n",
      "Epoch: 110 | train_loss: 0.0129 | train_acc: 0.9988 | test_loss: 0.2196 | test_acc: 0.9496\n",
      "Epoch: 111 | train_loss: 0.0127 | train_acc: 0.9992 | test_loss: 0.2180 | test_acc: 0.9489\n",
      "Epoch: 112 | train_loss: 0.0125 | train_acc: 0.9988 | test_loss: 0.2121 | test_acc: 0.9498\n",
      "Epoch: 113 | train_loss: 0.0128 | train_acc: 0.9985 | test_loss: 0.2168 | test_acc: 0.9485\n",
      "Epoch: 114 | train_loss: 0.0119 | train_acc: 0.9988 | test_loss: 0.2142 | test_acc: 0.9498\n",
      "Epoch: 115 | train_loss: 0.0117 | train_acc: 0.9991 | test_loss: 0.2216 | test_acc: 0.9471\n",
      "Epoch: 116 | train_loss: 0.0122 | train_acc: 0.9987 | test_loss: 0.2191 | test_acc: 0.9495\n",
      "Epoch: 117 | train_loss: 0.0123 | train_acc: 0.9986 | test_loss: 0.2182 | test_acc: 0.9495\n",
      "Epoch: 118 | train_loss: 0.0114 | train_acc: 0.9990 | test_loss: 0.2236 | test_acc: 0.9489\n",
      "Epoch: 119 | train_loss: 0.0112 | train_acc: 0.9994 | test_loss: 0.2285 | test_acc: 0.9487\n",
      "Epoch: 120 | train_loss: 0.0109 | train_acc: 0.9996 | test_loss: 0.2226 | test_acc: 0.9485\n",
      "Epoch: 121 | train_loss: 0.0107 | train_acc: 0.9992 | test_loss: 0.2281 | test_acc: 0.9485\n",
      "Epoch: 122 | train_loss: 0.0106 | train_acc: 0.9992 | test_loss: 0.2271 | test_acc: 0.9495\n",
      "Epoch: 123 | train_loss: 0.0109 | train_acc: 0.9990 | test_loss: 0.2217 | test_acc: 0.9487\n",
      "Epoch: 124 | train_loss: 0.0108 | train_acc: 0.9992 | test_loss: 0.2279 | test_acc: 0.9495\n",
      "Epoch: 125 | train_loss: 0.0102 | train_acc: 0.9995 | test_loss: 0.2258 | test_acc: 0.9480\n",
      "Epoch: 126 | train_loss: 0.0102 | train_acc: 0.9992 | test_loss: 0.2319 | test_acc: 0.9480\n",
      "Epoch: 127 | train_loss: 0.0106 | train_acc: 0.9990 | test_loss: 0.2315 | test_acc: 0.9498\n",
      "Epoch: 128 | train_loss: 0.0106 | train_acc: 0.9992 | test_loss: 0.2323 | test_acc: 0.9473\n",
      "Epoch: 129 | train_loss: 0.0100 | train_acc: 0.9992 | test_loss: 0.2306 | test_acc: 0.9495\n",
      "Epoch: 130 | train_loss: 0.0096 | train_acc: 0.9996 | test_loss: 0.2345 | test_acc: 0.9480\n",
      "Epoch: 131 | train_loss: 0.0096 | train_acc: 0.9992 | test_loss: 0.2332 | test_acc: 0.9489\n",
      "Epoch: 132 | train_loss: 0.0096 | train_acc: 0.9989 | test_loss: 0.2359 | test_acc: 0.9505\n",
      "Epoch: 133 | train_loss: 0.0094 | train_acc: 0.9994 | test_loss: 0.2362 | test_acc: 0.9496\n",
      "Epoch: 134 | train_loss: 0.0094 | train_acc: 0.9994 | test_loss: 0.2380 | test_acc: 0.9493\n",
      "Epoch: 135 | train_loss: 0.0090 | train_acc: 0.9996 | test_loss: 0.2316 | test_acc: 0.9501\n",
      "Epoch: 136 | train_loss: 0.0089 | train_acc: 0.9995 | test_loss: 0.2352 | test_acc: 0.9489\n",
      "Epoch: 137 | train_loss: 0.0089 | train_acc: 0.9995 | test_loss: 0.2424 | test_acc: 0.9493\n",
      "Epoch: 138 | train_loss: 0.0085 | train_acc: 0.9998 | test_loss: 0.2398 | test_acc: 0.9479\n",
      "Epoch: 139 | train_loss: 0.0088 | train_acc: 0.9996 | test_loss: 0.2412 | test_acc: 0.9483\n",
      "Epoch: 140 | train_loss: 0.0085 | train_acc: 0.9996 | test_loss: 0.2452 | test_acc: 0.9498\n",
      "Epoch: 141 | train_loss: 0.0083 | train_acc: 0.9996 | test_loss: 0.2502 | test_acc: 0.9467\n",
      "Epoch: 142 | train_loss: 0.0083 | train_acc: 0.9995 | test_loss: 0.2435 | test_acc: 0.9487\n",
      "Epoch: 143 | train_loss: 0.0084 | train_acc: 0.9996 | test_loss: 0.2461 | test_acc: 0.9473\n",
      "Epoch: 144 | train_loss: 0.0082 | train_acc: 0.9996 | test_loss: 0.2477 | test_acc: 0.9506\n",
      "Epoch: 145 | train_loss: 0.0079 | train_acc: 0.9996 | test_loss: 0.2530 | test_acc: 0.9479\n",
      "Epoch: 146 | train_loss: 0.0077 | train_acc: 0.9997 | test_loss: 0.2435 | test_acc: 0.9487\n",
      "Epoch: 147 | train_loss: 0.0079 | train_acc: 0.9996 | test_loss: 0.2455 | test_acc: 0.9496\n",
      "Epoch: 148 | train_loss: 0.0078 | train_acc: 0.9996 | test_loss: 0.2480 | test_acc: 0.9485\n",
      "Epoch: 149 | train_loss: 0.0074 | train_acc: 0.9996 | test_loss: 0.2477 | test_acc: 0.9483\n",
      "Epoch: 150 | train_loss: 0.0074 | train_acc: 0.9997 | test_loss: 0.2495 | test_acc: 0.9479\n",
      "Epoch: 151 | train_loss: 0.0079 | train_acc: 0.9994 | test_loss: 0.2581 | test_acc: 0.9482\n",
      "Epoch: 152 | train_loss: 0.0071 | train_acc: 0.9997 | test_loss: 0.2468 | test_acc: 0.9502\n",
      "Epoch: 153 | train_loss: 0.0073 | train_acc: 0.9997 | test_loss: 0.2509 | test_acc: 0.9490\n",
      "Epoch: 154 | train_loss: 0.0070 | train_acc: 0.9999 | test_loss: 0.2520 | test_acc: 0.9490\n",
      "Epoch: 155 | train_loss: 0.0075 | train_acc: 0.9997 | test_loss: 0.2527 | test_acc: 0.9504\n",
      "Epoch: 156 | train_loss: 0.0067 | train_acc: 0.9999 | test_loss: 0.2531 | test_acc: 0.9495\n",
      "Epoch: 157 | train_loss: 0.0070 | train_acc: 0.9998 | test_loss: 0.2586 | test_acc: 0.9476\n",
      "Epoch: 158 | train_loss: 0.0068 | train_acc: 0.9996 | test_loss: 0.2549 | test_acc: 0.9480\n",
      "Epoch: 159 | train_loss: 0.0066 | train_acc: 0.9998 | test_loss: 0.2493 | test_acc: 0.9496\n",
      "Epoch: 160 | train_loss: 0.0068 | train_acc: 0.9997 | test_loss: 0.2545 | test_acc: 0.9490\n",
      "Epoch: 161 | train_loss: 0.0071 | train_acc: 0.9997 | test_loss: 0.2624 | test_acc: 0.9470\n",
      "Epoch: 162 | train_loss: 0.0065 | train_acc: 0.9997 | test_loss: 0.2616 | test_acc: 0.9482\n",
      "Epoch: 163 | train_loss: 0.0064 | train_acc: 0.9999 | test_loss: 0.2603 | test_acc: 0.9486\n",
      "Epoch: 164 | train_loss: 0.0063 | train_acc: 0.9998 | test_loss: 0.2602 | test_acc: 0.9485\n",
      "Epoch: 165 | train_loss: 0.0064 | train_acc: 0.9997 | test_loss: 0.2623 | test_acc: 0.9492\n",
      "Epoch: 166 | train_loss: 0.0063 | train_acc: 0.9999 | test_loss: 0.2654 | test_acc: 0.9483\n",
      "Epoch: 167 | train_loss: 0.0061 | train_acc: 0.9998 | test_loss: 0.2654 | test_acc: 0.9487\n",
      "Epoch: 168 | train_loss: 0.0063 | train_acc: 0.9997 | test_loss: 0.2609 | test_acc: 0.9485\n",
      "Epoch: 169 | train_loss: 0.0058 | train_acc: 0.9999 | test_loss: 0.2644 | test_acc: 0.9479\n",
      "Epoch: 170 | train_loss: 0.0058 | train_acc: 0.9999 | test_loss: 0.2671 | test_acc: 0.9489\n",
      "Epoch: 171 | train_loss: 0.0057 | train_acc: 0.9999 | test_loss: 0.2702 | test_acc: 0.9485\n",
      "Epoch: 172 | train_loss: 0.0055 | train_acc: 0.9999 | test_loss: 0.2662 | test_acc: 0.9480\n",
      "Epoch: 173 | train_loss: 0.0060 | train_acc: 0.9997 | test_loss: 0.2773 | test_acc: 0.9480\n",
      "Epoch: 174 | train_loss: 0.0055 | train_acc: 0.9998 | test_loss: 0.2695 | test_acc: 0.9489\n",
      "Epoch: 175 | train_loss: 0.0055 | train_acc: 0.9999 | test_loss: 0.2723 | test_acc: 0.9489\n",
      "Epoch: 176 | train_loss: 0.0056 | train_acc: 0.9998 | test_loss: 0.2672 | test_acc: 0.9470\n",
      "Epoch: 177 | train_loss: 0.0058 | train_acc: 0.9996 | test_loss: 0.2650 | test_acc: 0.9482\n",
      "Epoch: 178 | train_loss: 0.0052 | train_acc: 0.9999 | test_loss: 0.2757 | test_acc: 0.9470\n",
      "Epoch: 179 | train_loss: 0.0053 | train_acc: 0.9998 | test_loss: 0.2732 | test_acc: 0.9461\n",
      "Epoch: 180 | train_loss: 0.0053 | train_acc: 0.9998 | test_loss: 0.2738 | test_acc: 0.9486\n",
      "Epoch: 181 | train_loss: 0.0053 | train_acc: 0.9998 | test_loss: 0.2798 | test_acc: 0.9499\n",
      "Epoch: 182 | train_loss: 0.0051 | train_acc: 0.9999 | test_loss: 0.2767 | test_acc: 0.9483\n",
      "Epoch: 183 | train_loss: 0.0051 | train_acc: 0.9999 | test_loss: 0.2806 | test_acc: 0.9493\n",
      "Epoch: 184 | train_loss: 0.0052 | train_acc: 0.9999 | test_loss: 0.2821 | test_acc: 0.9483\n",
      "Epoch: 185 | train_loss: 0.0048 | train_acc: 0.9999 | test_loss: 0.2845 | test_acc: 0.9471\n",
      "Epoch: 186 | train_loss: 0.0049 | train_acc: 0.9999 | test_loss: 0.2743 | test_acc: 0.9487\n",
      "Epoch: 187 | train_loss: 0.0049 | train_acc: 0.9999 | test_loss: 0.2790 | test_acc: 0.9482\n",
      "Epoch: 188 | train_loss: 0.0046 | train_acc: 0.9999 | test_loss: 0.2823 | test_acc: 0.9482\n",
      "Epoch: 189 | train_loss: 0.0048 | train_acc: 0.9999 | test_loss: 0.2816 | test_acc: 0.9487\n",
      "Epoch: 190 | train_loss: 0.0047 | train_acc: 0.9999 | test_loss: 0.2841 | test_acc: 0.9485\n",
      "Epoch: 191 | train_loss: 0.0048 | train_acc: 0.9999 | test_loss: 0.2840 | test_acc: 0.9489\n",
      "Epoch: 192 | train_loss: 0.0047 | train_acc: 0.9999 | test_loss: 0.2846 | test_acc: 0.9476\n",
      "Epoch: 193 | train_loss: 0.0045 | train_acc: 0.9999 | test_loss: 0.2846 | test_acc: 0.9479\n",
      "Epoch: 194 | train_loss: 0.0045 | train_acc: 0.9998 | test_loss: 0.2859 | test_acc: 0.9479\n",
      "Epoch: 195 | train_loss: 0.0044 | train_acc: 0.9999 | test_loss: 0.2915 | test_acc: 0.9467\n",
      "Epoch: 196 | train_loss: 0.0048 | train_acc: 0.9997 | test_loss: 0.2898 | test_acc: 0.9467\n",
      "Epoch: 197 | train_loss: 0.0045 | train_acc: 0.9998 | test_loss: 0.2893 | test_acc: 0.9477\n",
      "Epoch: 198 | train_loss: 0.0042 | train_acc: 0.9999 | test_loss: 0.2886 | test_acc: 0.9480\n",
      "Epoch: 199 | train_loss: 0.0043 | train_acc: 0.9999 | test_loss: 0.2955 | test_acc: 0.9490\n",
      "Epoch: 200 | train_loss: 0.0042 | train_acc: 0.9999 | test_loss: 0.2876 | test_acc: 0.9480\n"
     ]
    }
   ],
   "source": [
    "from going_modular.going_modular import engine\n",
    "\n",
    "# Create optimizer and loss function\n",
    "optimizer = torch.optim.Adam(params=pretrained_vit.parameters(), \n",
    "                             lr=1e-3)\n",
    "loss_fn = torch.nn.CrossEntropyLoss()\n",
    "\n",
    "# Train the classifier head of the pretrained ViT feature extractor model\n",
    "set_seeds()\n",
    "pretrained_vit_results = engine.train(model=pretrained_vit,\n",
    "                                      train_dataloader=train_dataloader_pretrained,\n",
    "                                      test_dataloader=test_dataloader_pretrained,\n",
    "                                      optimizer=optimizer,\n",
    "                                      loss_fn=loss_fn,\n",
    "                                      epochs=200,\n",
    "                                      device=device)"
   ]
  },
  {
   "cell_type": "code",
   "execution_count": 12,
   "id": "ea952e33-6ddf-4a0a-bbc5-3fbe3251b830",
   "metadata": {},
   "outputs": [
    {
     "data": {
      "text/plain": [
       "<All keys matched successfully>"
      ]
     },
     "execution_count": 12,
     "metadata": {},
     "output_type": "execute_result"
    }
   ],
   "source": [
    "# Save trainend weight\n",
    "\n",
    "# Get current datetime to use in filename\n",
    "now = datetime.datetime.now()\n",
    "filename = dataset_dir + \"/\" + now.strftime(\"%Y%m%d-%H%M%S\") + \"_model.pth\"\n",
    "\n",
    "# Save the model weights to disk\n",
    "torch.save(pretrained_vit.state_dict(), filename)\n",
    "\n",
    "# Load the model weights \n",
    "loaded_weights = torch.load(filename)\n",
    "\n",
    "# load the weights \n",
    "pretrained_vit.load_state_dict(loaded_weights)"
   ]
  },
  {
   "cell_type": "markdown",
   "id": "945149b4",
   "metadata": {},
   "source": [
    "pretrained ViT performed far better than our custom ViT model trained from scratch (in the same amount of time).\n"
   ]
  },
  {
   "cell_type": "code",
   "execution_count": 13,
   "id": "2aae16a8",
   "metadata": {},
   "outputs": [
    {
     "data": {
      "image/png": "[encoded data removed]",
      "text/plain": [
       "<Figure size 1500x700 with 2 Axes>"
      ]
     },
     "metadata": {},
     "output_type": "display_data"
    }
   ],
   "source": [
    "# Plot the loss curves\n",
    "from helper_functions import plot_loss_curves\n",
    "\n",
    "plot_loss_curves(pretrained_vit_results) "
   ]
  },
  {
   "cell_type": "markdown",
   "id": "79922fd1",
   "metadata": {},
   "source": [
    "## That's the power of transfer learning!\n",
    "\n",
    "We managed to get outstanding results with the same model architecture, except our custom implementation was trained from scratch (worse performance) and this feature extractor model has the power of pretrained weights from ImageNet behind it."
   ]
  },
  {
   "cell_type": "markdown",
   "id": "6ce4427b",
   "metadata": {},
   "source": [
    "# Let's make Prediction:"
   ]
  },
  {
   "cell_type": "markdown",
   "id": "0bf3b1f1-2def-4197-b8a8-8224af52fb5a",
   "metadata": {},
   "source": [
    "# Setup custom image path\n",
    "custom_image_path = 'dataset_ebs/_train/rejects/R-020.jpg'"
   ]
  },
  {
   "cell_type": "markdown",
   "id": "72d1a831-5270-4eed-a935-620a0743a6b9",
   "metadata": {},
   "source": [
    "import requests\n",
    "\n",
    "# Import function to make predictions on images and plot them \n",
    "from going_modular.going_modular.predictions import pred_and_plot_image\n",
    "\n",
    "# Predict on custom image\n",
    "pred_and_plot_image(model=pretrained_vit,\n",
    "                    image_path=custom_image_path,\n",
    "                    class_names=class_names)"
   ]
  },
  {
   "cell_type": "code",
   "execution_count": null,
   "id": "eb7d0f9e",
   "metadata": {},
   "outputs": [],
   "source": []
  }
 ],
 "metadata": {
  "kernelspec": {
   "display_name": "Python 3 (ipykernel)",
   "language": "python",
   "name": "python3"
  },
  "language_info": {
   "codemirror_mode": {
    "name": "ipython",
    "version": 3
   },
   "file_extension": ".py",
   "mimetype": "text/x-python",
   "name": "python",
   "nbconvert_exporter": "python",
   "pygments_lexer": "ipython3",
   "version": "3.8.18"
  }
 },
 "nbformat": 4,
 "nbformat_minor": 5
}
