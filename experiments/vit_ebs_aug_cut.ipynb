{
 "cells": [
  {
   "cell_type": "code",
   "execution_count": 1,
   "id": "cbe6ffe3-585b-4395-b4e8-bf5d0e3e0ea6",
   "metadata": {},
   "outputs": [],
   "source": [
    "import torch\n",
    "from torch.utils.data import DataLoader, random_split\n",
    "from torchvision import datasets, transforms\n",
    "from transformers import ViTForImageClassification\n",
    "from PIL import Image\n",
    "import random\n",
    "import numpy as np"
   ]
  },
  {
   "cell_type": "code",
   "execution_count": 2,
   "id": "d32b99ce-b026-44f3-88dd-5ca4eb3242e1",
   "metadata": {},
   "outputs": [],
   "source": [
    "# Define Random Cut Augmentation\n",
    "class RandomCutTransform:\n",
    "    def __init__(self, cut_size):\n",
    "        self.cut_size = cut_size\n",
    "\n",
    "    def __call__(self, img):\n",
    "        w, h = img.size\n",
    "        x, y = random.randint(0, w - self.cut_size), random.randint(0, h - self.cut_size)\n",
    "        img_np = np.array(img)\n",
    "        img_np[y:y+self.cut_size, x:x+self.cut_size, :] = img_np.mean(axis=(0, 1))\n",
    "        return Image.fromarray(img_np)\n",
    "\n",
    "# Data Transforms\n",
    "transform = transforms.Compose([\n",
    "    transforms.Resize((224, 224)),\n",
    "    #RandomCutTransform(cut_size=20),  # Example cut size\n",
    "    transforms.ToTensor(),\n",
    "])"
   ]
  },
  {
   "cell_type": "code",
   "execution_count": 14,
   "id": "2eae2101-4895-41c4-989f-b5fd3827ea22",
   "metadata": {},
   "outputs": [],
   "source": [
    "# Load the entire dataset\n",
    "dataset_folder = \"dataset_ebs_test_cropped_aug\"\n",
    "full_dataset = datasets.ImageFolder(root=dataset_folder, transform=transform)\n",
    "\n",
    "# Calculate split sizes for training and testing\n",
    "total_size = len(full_dataset)\n",
    "train_size = int(0.7 * total_size)  # 70% of the dataset\n",
    "test_size = total_size - train_size  # Remaining 30% of the dataset"
   ]
  },
  {
   "cell_type": "code",
   "execution_count": 4,
   "id": "9d5d263b-24f6-49a2-bde0-7a2ec29d523d",
   "metadata": {},
   "outputs": [],
   "source": [
    "# Randomly split the dataset\n",
    "train_dataset, test_dataset = random_split(full_dataset, [train_size, test_size])\n",
    "\n",
    "# Create data loaders\n",
    "train_loader = DataLoader(train_dataset, batch_size=32, shuffle=True)\n",
    "test_loader = DataLoader(test_dataset, batch_size=32, shuffle=False)\n",
    "\n",
    "# Initialize Vision Transformer Model\n",
    "model = ViTForImageClassification.from_pretrained('google/vit-base-patch16-224')\n",
    "\n",
    "# Define Loss and Optimizer\n",
    "criterion = torch.nn.CrossEntropyLoss()\n",
    "optimizer = torch.optim.Adam(model.parameters(), lr=0.001)\n",
    "\n",
    "# Number of Epochs\n",
    "num_epochs = 10  # Adjust as needed\n"
   ]
  },
  {
   "cell_type": "raw",
   "id": "1657443c-d8bb-466c-af06-eaa080c72137",
   "metadata": {},
   "source": [
    "# Training Loop\n",
    "for epoch in range(num_epochs):\n",
    "    model.train()\n",
    "    for images, labels in train_loader:\n",
    "        # Forward pass\n",
    "        outputs = model(images)\n",
    "        loss = criterion(outputs.logits, labels)\n",
    "\n",
    "        # Backward pass and optimization\n",
    "        optimizer.zero_grad()\n",
    "        loss.backward()\n",
    "        optimizer.step()\n",
    "\n",
    "    print(f'Epoch [{epoch+1}/{num_epochs}], Loss: {loss.item():.4f}')\n",
    "\n",
    "    # Evaluate on the test set\n",
    "    model.eval()\n",
    "    total = 0\n",
    "    correct = 0\n",
    "    with torch.no_grad():\n",
    "        for images, labels in test_loader:\n",
    "            outputs = model(images)\n",
    "            _, predicted = torch.max(outputs.logits.data, 1)\n",
    "            total += labels.size(0)\n",
    "            correct += (predicted == labels).sum().item()\n",
    "\n",
    "    accuracy = 100 * correct / total\n",
    "    print(f'Accuracy of the model on the test images: {accuracy} %')\n",
    "\n"
   ]
  },
  {
   "cell_type": "code",
   "execution_count": 5,
   "id": "e07150a8-d7e5-4a9c-aef4-4ce6d4ced674",
   "metadata": {},
   "outputs": [
    {
     "name": "stdout",
     "output_type": "stream",
     "text": [
      "Epoch 1/10, Train Loss: 0.0470, Train Acc: 50.31%, Test Loss: 0.0233, Test Acc: 69.19%\n",
      "Epoch 2/10, Train Loss: 0.0218, Train Acc: 61.51%, Test Loss: 0.0224, Test Acc: 69.19%\n",
      "Epoch 3/10, Train Loss: 0.0229, Train Acc: 57.03%, Test Loss: 0.0238, Test Acc: 69.19%\n",
      "Epoch 4/10, Train Loss: 0.0242, Train Acc: 58.66%, Test Loss: 0.0205, Test Acc: 69.19%\n",
      "Epoch 5/10, Train Loss: 0.0225, Train Acc: 57.43%, Test Loss: 0.0232, Test Acc: 30.81%\n",
      "Epoch 6/10, Train Loss: 0.0228, Train Acc: 55.40%, Test Loss: 0.0205, Test Acc: 69.19%\n",
      "Epoch 7/10, Train Loss: 0.0229, Train Acc: 57.43%, Test Loss: 0.0213, Test Acc: 69.19%\n",
      "Epoch 8/10, Train Loss: 0.0215, Train Acc: 65.58%, Test Loss: 0.0206, Test Acc: 69.19%\n",
      "Epoch 9/10, Train Loss: 0.0215, Train Acc: 65.58%, Test Loss: 0.0208, Test Acc: 69.19%\n",
      "Epoch 10/10, Train Loss: 0.0213, Train Acc: 65.58%, Test Loss: 0.0208, Test Acc: 69.19%\n"
     ]
    }
   ],
   "source": [
    "# Training Loop\n",
    "for epoch in range(num_epochs):\n",
    "    model.train()\n",
    "    \n",
    "    # Variables to track training performance\n",
    "    train_loss = 0\n",
    "    correct_train = 0\n",
    "    total_train = 0\n",
    "    \n",
    "    for images, labels in train_loader:\n",
    "        # Forward pass\n",
    "        outputs = model(images)\n",
    "        loss = criterion(outputs.logits, labels)\n",
    "        train_loss += loss.item()\n",
    "        _, predicted = torch.max(outputs.logits.data, 1)\n",
    "        total_train += labels.size(0)\n",
    "        correct_train += (predicted == labels).sum().item()\n",
    "\n",
    "        # Backward pass and optimization\n",
    "        optimizer.zero_grad()\n",
    "        loss.backward()\n",
    "        optimizer.step()\n",
    "    \n",
    "    train_accuracy = 100 * correct_train / total_train\n",
    "\n",
    "    # Evaluate on the test set\n",
    "    model.eval()\n",
    "    test_loss = 0\n",
    "    correct_test = 0\n",
    "    total_test = 0\n",
    "    with torch.no_grad():\n",
    "        for images, labels in test_loader:\n",
    "            outputs = model(images)\n",
    "            loss = criterion(outputs.logits, labels)\n",
    "            test_loss += loss.item()\n",
    "            _, predicted = torch.max(outputs.logits.data, 1)\n",
    "            total_test += labels.size(0)\n",
    "            correct_test += (predicted == labels).sum().item()\n",
    "\n",
    "    test_accuracy = 100 * correct_test / total_test\n",
    "\n",
    "    print(f'Epoch {epoch+1}/{num_epochs}, Train Loss: {train_loss/total_train:.4f}, Train Acc: {train_accuracy:.2f}%, Test Loss: {test_loss/total_test:.4f}, Test Acc: {test_accuracy:.2f}%')\n"
   ]
  },
  {
   "cell_type": "code",
   "execution_count": 6,
   "id": "6306ef38-64dc-46de-ba75-aeb4d96ea293",
   "metadata": {},
   "outputs": [],
   "source": [
    "\n",
    "# ... Add code for further evaluation, saving the model, etc. ...\n"
   ]
  },
  {
   "cell_type": "code",
   "execution_count": 7,
   "id": "40548246-67cb-41c7-b630-7984f98db26e",
   "metadata": {},
   "outputs": [],
   "source": [
    "class_names = full_dataset.classes\n",
    "num_classes = len(class_names)\n",
    "\n",
    "\n"
   ]
  },
  {
   "cell_type": "code",
   "execution_count": 16,
   "id": "9c356bb0-f42d-4536-9039-cf158aa26677",
   "metadata": {},
   "outputs": [
    {
     "name": "stdout",
     "output_type": "stream",
     "text": [
      "Training Setup Summary:\n",
      "Dataset Folder: dataset_ebs_test_cropped_aug\n",
      "Training-Testing Ratio: 491:211\n",
      "Class Names: ['goods', 'rejects']\n",
      "Number of Epochs: 10\n"
     ]
    }
   ],
   "source": [
    "print(\"Training Setup Summary:\")\n",
    "print(f\"Dataset Folder: {dataset_folder}\")\n",
    "print(f\"Training-Testing Ratio: {train_size}:{test_size}\")\n",
    "print(f\"Class Names: {class_names}\")\n",
    "print(f\"Number of Epochs: {num_epochs}\")\n"
   ]
  },
  {
   "cell_type": "raw",
   "id": "70707231-f09b-426c-9da6-c719dda510cc",
   "metadata": {},
   "source": []
  },
  {
   "cell_type": "code",
   "execution_count": null,
   "id": "f89b2de9-003d-4a0e-998b-8753513492df",
   "metadata": {},
   "outputs": [],
   "source": []
  }
 ],
 "metadata": {
  "kernelspec": {
   "display_name": "Python 3 (ipykernel)",
   "language": "python",
   "name": "python3"
  },
  "language_info": {
   "codemirror_mode": {
    "name": "ipython",
    "version": 3
   },
   "file_extension": ".py",
   "mimetype": "text/x-python",
   "name": "python",
   "nbconvert_exporter": "python",
   "pygments_lexer": "ipython3",
   "version": "3.8.18"
  }
 },
 "nbformat": 4,
 "nbformat_minor": 5
}
