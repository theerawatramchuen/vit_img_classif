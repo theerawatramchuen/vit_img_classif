{
 "cells": [
  {
   "cell_type": "code",
   "execution_count": 1,
   "id": "1504d512-6448-43a9-b347-842bfaf42a09",
   "metadata": {},
   "outputs": [],
   "source": [
    "base_directory = 'dataset_ebs'  # Replace with your dataset path\n",
    "train_ratio = 0.75  # For instance 0.8 = 80% training and 20% validation"
   ]
  },
  {
   "cell_type": "code",
   "execution_count": 2,
   "id": "9c989f87-3f77-4783-87eb-f68d3e0375fa",
   "metadata": {},
   "outputs": [],
   "source": [
    "import os\n",
    "import shutil\n",
    "from sklearn.model_selection import train_test_split\n",
    "\n",
    "def split_dataset(base_dir, train_ratio):\n",
    "    classes = os.listdir(base_dir)\n",
    "    \n",
    "    for cls in classes:\n",
    "        class_dir = os.path.join(base_dir, cls)\n",
    "        if not os.path.isdir(class_dir):\n",
    "            continue\n",
    "\n",
    "        images = [os.path.join(class_dir, img) for img in os.listdir(class_dir) if img.endswith(('.png', '.jpg', '.jpeg'))]\n",
    "        train_imgs, val_imgs = train_test_split(images, train_size=train_ratio)\n",
    "\n",
    "        # Create training and validation directories\n",
    "        train_dir = os.path.join(base_dir, '_train', cls)\n",
    "        val_dir = os.path.join(base_dir, '_valid', cls)\n",
    "        os.makedirs(train_dir, exist_ok=True)\n",
    "        os.makedirs(val_dir, exist_ok=True)\n",
    "\n",
    "        # Copy images to respective directories\n",
    "        for img in train_imgs:\n",
    "            shutil.copy(img, train_dir)\n",
    "        for img in val_imgs:\n",
    "            shutil.copy(img, val_dir)\n",
    "\n",
    "\n"
   ]
  },
  {
   "cell_type": "code",
   "execution_count": 3,
   "id": "31544c02-2a2c-4f16-8e41-4c83d7d03825",
   "metadata": {},
   "outputs": [],
   "source": [
    "# Usage\n",
    "# base_directory = 'path/to/your/dataset'  # Replace with your dataset path\n",
    "# train_ratio = 0.8  # For instance, 80% training and 20% validation\n",
    "split_dataset(base_directory, train_ratio)"
   ]
  },
  {
   "cell_type": "code",
   "execution_count": null,
   "id": "cfc29c2b-8ff1-4f1b-8333-3d66dcf8c18f",
   "metadata": {},
   "outputs": [],
   "source": []
  }
 ],
 "metadata": {
  "kernelspec": {
   "display_name": "Python 3 (ipykernel)",
   "language": "python",
   "name": "python3"
  },
  "language_info": {
   "codemirror_mode": {
    "name": "ipython",
    "version": 3
   },
   "file_extension": ".py",
   "mimetype": "text/x-python",
   "name": "python",
   "nbconvert_exporter": "python",
   "pygments_lexer": "ipython3",
   "version": "3.8.18"
  }
 },
 "nbformat": 4,
 "nbformat_minor": 5
}
